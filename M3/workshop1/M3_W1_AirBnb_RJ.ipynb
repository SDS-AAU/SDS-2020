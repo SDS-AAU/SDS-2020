{
  "nbformat": 4,
  "nbformat_minor": 0,
  "metadata": {
    "colab": {
      "name": "M3 W1 - AirBnb.ipynb",
      "provenance": [],
      "authorship_tag": "ABX9TyPOi2/eEAkE6436T3EHH59v",
      "include_colab_link": true
    },
    "kernelspec": {
      "name": "python3",
      "display_name": "Python 3"
    }
  },
  "cells": [
    {
      "cell_type": "markdown",
      "metadata": {
        "id": "view-in-github",
        "colab_type": "text"
      },
      "source": [
        "<a href=\"https://colab.research.google.com/github/SDS-AAU/SDS-2020/blob/master/M3/workshop1/M3_W1_AirBnb_RJ.ipynb\" target=\"_parent\"><img src=\"https://colab.research.google.com/assets/colab-badge.svg\" alt=\"Open In Colab\"/></a>"
      ]
    },
    {
      "cell_type": "markdown",
      "metadata": {
        "id": "NQv-jf2VAi7B"
      },
      "source": [
        "# M3 - Deep Learning Workshop 1\n",
        "\n",
        "In this workshop will revisit the [AirBnb dataset](http://data.insideairbnb.com/denmark/hovedstaden/copenhagen/2020-06-26/data/listings.csv.gz) that we used in M1. "
      ]
    },
    {
      "cell_type": "code",
      "metadata": {
        "id": "lAXXAK-rABs8"
      },
      "source": [
        "import pandas as pd\n",
        "import numpy as np\n",
        "import matplotlib.pyplot as plt\n",
        "import seaborn as sns\n",
        "sns.set()\n",
        "\n",
        "#from sklearn.metrics import mean_squared_error\n",
        "\n",
        "\n",
        "from keras.models import Sequential\n",
        "from keras.layers import Dense\n",
        "from keras.wrappers.scikit_learn import KerasClassifier\n",
        "from keras.utils import np_utils\n",
        "from keras.metrics import mean_squared_error\n",
        "\n",
        "from sklearn.model_selection import cross_val_score\n",
        "from sklearn.model_selection import KFold\n",
        "\n",
        "from sklearn.pipeline import Pipeline"
      ],
      "execution_count": 42,
      "outputs": []
    },
    {
      "cell_type": "code",
      "metadata": {
        "id": "rm9OAE0eA8CY",
        "outputId": "9c89bd81-9c75-4ef5-e635-8c83b2c73c47",
        "colab": {
          "base_uri": "https://localhost:8080/"
        }
      },
      "source": [
        "from fancyimpute import IterativeImputer"
      ],
      "execution_count": 4,
      "outputs": [
        {
          "output_type": "stream",
          "text": [
            "/usr/local/lib/python3.6/dist-packages/sklearn/externals/six.py:31: FutureWarning: The module is deprecated in version 0.21 and will be removed in version 0.23 since we've dropped support for Python 2.7. Please rely on the official version of six (https://pypi.org/project/six/).\n",
            "  \"(https://pypi.org/project/six/).\", FutureWarning)\n"
          ],
          "name": "stderr"
        }
      ]
    },
    {
      "cell_type": "code",
      "metadata": {
        "id": "Lxptd8LABNRD",
        "outputId": "59d318ff-5015-4f5c-95de-90fc765511e5",
        "colab": {
          "base_uri": "https://localhost:8080/"
        }
      },
      "source": [
        "listings = pd.read_csv('http://data.insideairbnb.com/denmark/hovedstaden/copenhagen/2020-06-26/data/listings.csv.gz', compression='gzip')"
      ],
      "execution_count": 5,
      "outputs": [
        {
          "output_type": "stream",
          "text": [
            "/usr/local/lib/python3.6/dist-packages/IPython/core/interactiveshell.py:2718: DtypeWarning: Columns (43,61,62,94) have mixed types.Specify dtype option on import or set low_memory=False.\n",
            "  interactivity=interactivity, compiler=compiler, result=result)\n"
          ],
          "name": "stderr"
        }
      ]
    },
    {
      "cell_type": "code",
      "metadata": {
        "id": "wWzzuy6zCmbR",
        "outputId": "1c455c5f-7430-49f1-c3e8-8bf4f0d4d641",
        "colab": {
          "base_uri": "https://localhost:8080/",
          "height": 645
        }
      },
      "source": [
        "listings.head()"
      ],
      "execution_count": 6,
      "outputs": [
        {
          "output_type": "execute_result",
          "data": {
            "text/html": [
              "<div>\n",
              "<style scoped>\n",
              "    .dataframe tbody tr th:only-of-type {\n",
              "        vertical-align: middle;\n",
              "    }\n",
              "\n",
              "    .dataframe tbody tr th {\n",
              "        vertical-align: top;\n",
              "    }\n",
              "\n",
              "    .dataframe thead th {\n",
              "        text-align: right;\n",
              "    }\n",
              "</style>\n",
              "<table border=\"1\" class=\"dataframe\">\n",
              "  <thead>\n",
              "    <tr style=\"text-align: right;\">\n",
              "      <th></th>\n",
              "      <th>id</th>\n",
              "      <th>listing_url</th>\n",
              "      <th>scrape_id</th>\n",
              "      <th>last_scraped</th>\n",
              "      <th>name</th>\n",
              "      <th>summary</th>\n",
              "      <th>space</th>\n",
              "      <th>description</th>\n",
              "      <th>experiences_offered</th>\n",
              "      <th>neighborhood_overview</th>\n",
              "      <th>notes</th>\n",
              "      <th>transit</th>\n",
              "      <th>access</th>\n",
              "      <th>interaction</th>\n",
              "      <th>house_rules</th>\n",
              "      <th>thumbnail_url</th>\n",
              "      <th>medium_url</th>\n",
              "      <th>picture_url</th>\n",
              "      <th>xl_picture_url</th>\n",
              "      <th>host_id</th>\n",
              "      <th>host_url</th>\n",
              "      <th>host_name</th>\n",
              "      <th>host_since</th>\n",
              "      <th>host_location</th>\n",
              "      <th>host_about</th>\n",
              "      <th>host_response_time</th>\n",
              "      <th>host_response_rate</th>\n",
              "      <th>host_acceptance_rate</th>\n",
              "      <th>host_is_superhost</th>\n",
              "      <th>host_thumbnail_url</th>\n",
              "      <th>host_picture_url</th>\n",
              "      <th>host_neighbourhood</th>\n",
              "      <th>host_listings_count</th>\n",
              "      <th>host_total_listings_count</th>\n",
              "      <th>host_verifications</th>\n",
              "      <th>host_has_profile_pic</th>\n",
              "      <th>host_identity_verified</th>\n",
              "      <th>street</th>\n",
              "      <th>neighbourhood</th>\n",
              "      <th>neighbourhood_cleansed</th>\n",
              "      <th>...</th>\n",
              "      <th>extra_people</th>\n",
              "      <th>minimum_nights</th>\n",
              "      <th>maximum_nights</th>\n",
              "      <th>minimum_minimum_nights</th>\n",
              "      <th>maximum_minimum_nights</th>\n",
              "      <th>minimum_maximum_nights</th>\n",
              "      <th>maximum_maximum_nights</th>\n",
              "      <th>minimum_nights_avg_ntm</th>\n",
              "      <th>maximum_nights_avg_ntm</th>\n",
              "      <th>calendar_updated</th>\n",
              "      <th>has_availability</th>\n",
              "      <th>availability_30</th>\n",
              "      <th>availability_60</th>\n",
              "      <th>availability_90</th>\n",
              "      <th>availability_365</th>\n",
              "      <th>calendar_last_scraped</th>\n",
              "      <th>number_of_reviews</th>\n",
              "      <th>number_of_reviews_ltm</th>\n",
              "      <th>first_review</th>\n",
              "      <th>last_review</th>\n",
              "      <th>review_scores_rating</th>\n",
              "      <th>review_scores_accuracy</th>\n",
              "      <th>review_scores_cleanliness</th>\n",
              "      <th>review_scores_checkin</th>\n",
              "      <th>review_scores_communication</th>\n",
              "      <th>review_scores_location</th>\n",
              "      <th>review_scores_value</th>\n",
              "      <th>requires_license</th>\n",
              "      <th>license</th>\n",
              "      <th>jurisdiction_names</th>\n",
              "      <th>instant_bookable</th>\n",
              "      <th>is_business_travel_ready</th>\n",
              "      <th>cancellation_policy</th>\n",
              "      <th>require_guest_profile_picture</th>\n",
              "      <th>require_guest_phone_verification</th>\n",
              "      <th>calculated_host_listings_count</th>\n",
              "      <th>calculated_host_listings_count_entire_homes</th>\n",
              "      <th>calculated_host_listings_count_private_rooms</th>\n",
              "      <th>calculated_host_listings_count_shared_rooms</th>\n",
              "      <th>reviews_per_month</th>\n",
              "    </tr>\n",
              "  </thead>\n",
              "  <tbody>\n",
              "    <tr>\n",
              "      <th>0</th>\n",
              "      <td>6983</td>\n",
              "      <td>https://www.airbnb.com/rooms/6983</td>\n",
              "      <td>20200626200423</td>\n",
              "      <td>2020-06-28</td>\n",
              "      <td>Copenhagen 'N Livin'</td>\n",
              "      <td>Lovely apartment located in the hip Nørrebro a...</td>\n",
              "      <td>Beautiful and cosy apartment conveniently loca...</td>\n",
              "      <td>Lovely apartment located in the hip Nørrebro a...</td>\n",
              "      <td>none</td>\n",
              "      <td>Nice bars and cozy cafes just minutes away, ye...</td>\n",
              "      <td>NaN</td>\n",
              "      <td>Bus 66 runs to the central station. Forum metr...</td>\n",
              "      <td>Bedroom, living room, kitchen, and bathroom fo...</td>\n",
              "      <td>We are usually at work during day time, but wi...</td>\n",
              "      <td>No smoking allowed! No pets.</td>\n",
              "      <td>NaN</td>\n",
              "      <td>NaN</td>\n",
              "      <td>https://a0.muscache.com/im/pictures/42044170/f...</td>\n",
              "      <td>NaN</td>\n",
              "      <td>16774</td>\n",
              "      <td>https://www.airbnb.com/users/show/16774</td>\n",
              "      <td>Simon</td>\n",
              "      <td>2009-05-12</td>\n",
              "      <td>Copenhagen, Capital Region of Denmark, Denmark</td>\n",
              "      <td>I'm currently working as an environmental cons...</td>\n",
              "      <td>NaN</td>\n",
              "      <td>NaN</td>\n",
              "      <td>33%</td>\n",
              "      <td>f</td>\n",
              "      <td>https://a0.muscache.com/im/users/16774/profile...</td>\n",
              "      <td>https://a0.muscache.com/im/users/16774/profile...</td>\n",
              "      <td>Nørrebro</td>\n",
              "      <td>1.0</td>\n",
              "      <td>1.0</td>\n",
              "      <td>['email', 'phone', 'reviews']</td>\n",
              "      <td>t</td>\n",
              "      <td>f</td>\n",
              "      <td>Copenhagen, Hovedstaden, Denmark</td>\n",
              "      <td>Nørrebro</td>\n",
              "      <td>Nrrebro</td>\n",
              "      <td>...</td>\n",
              "      <td>$66.00</td>\n",
              "      <td>2</td>\n",
              "      <td>15</td>\n",
              "      <td>2</td>\n",
              "      <td>2</td>\n",
              "      <td>15</td>\n",
              "      <td>15</td>\n",
              "      <td>2.0</td>\n",
              "      <td>15.0</td>\n",
              "      <td>5 months ago</td>\n",
              "      <td>t</td>\n",
              "      <td>29</td>\n",
              "      <td>59</td>\n",
              "      <td>89</td>\n",
              "      <td>89</td>\n",
              "      <td>2020-06-28</td>\n",
              "      <td>168</td>\n",
              "      <td>1</td>\n",
              "      <td>2009-09-04</td>\n",
              "      <td>2019-07-19</td>\n",
              "      <td>96.0</td>\n",
              "      <td>10.0</td>\n",
              "      <td>9.0</td>\n",
              "      <td>10.0</td>\n",
              "      <td>10.0</td>\n",
              "      <td>9.0</td>\n",
              "      <td>9.0</td>\n",
              "      <td>f</td>\n",
              "      <td>NaN</td>\n",
              "      <td>NaN</td>\n",
              "      <td>f</td>\n",
              "      <td>f</td>\n",
              "      <td>moderate</td>\n",
              "      <td>f</td>\n",
              "      <td>f</td>\n",
              "      <td>1</td>\n",
              "      <td>0</td>\n",
              "      <td>1</td>\n",
              "      <td>0</td>\n",
              "      <td>1.28</td>\n",
              "    </tr>\n",
              "    <tr>\n",
              "      <th>1</th>\n",
              "      <td>26057</td>\n",
              "      <td>https://www.airbnb.com/rooms/26057</td>\n",
              "      <td>20200626200423</td>\n",
              "      <td>2020-06-28</td>\n",
              "      <td>Lovely house - most attractive area</td>\n",
              "      <td>Our lovely house in the center of the city is ...</td>\n",
              "      <td>Totally charming old 150 m2 stone house from y...</td>\n",
              "      <td>Our lovely house in the center of the city is ...</td>\n",
              "      <td>none</td>\n",
              "      <td>The neighborhood is the most famous one and th...</td>\n",
              "      <td>NaN</td>\n",
              "      <td>Walking-distance to metro/station for transpor...</td>\n",
              "      <td>You will have access to the whole house</td>\n",
              "      <td>NaN</td>\n",
              "      <td>We will leave the house clean and in good and ...</td>\n",
              "      <td>NaN</td>\n",
              "      <td>NaN</td>\n",
              "      <td>https://a0.muscache.com/im/pictures/bfbca07e-4...</td>\n",
              "      <td>NaN</td>\n",
              "      <td>109777</td>\n",
              "      <td>https://www.airbnb.com/users/show/109777</td>\n",
              "      <td>Kari</td>\n",
              "      <td>2010-04-17</td>\n",
              "      <td>Copenhagen, Capital Region of Denmark, Denmark</td>\n",
              "      <td>We are a family with 2 children, and living in...</td>\n",
              "      <td>NaN</td>\n",
              "      <td>NaN</td>\n",
              "      <td>19%</td>\n",
              "      <td>f</td>\n",
              "      <td>https://a0.muscache.com/im/users/109777/profil...</td>\n",
              "      <td>https://a0.muscache.com/im/users/109777/profil...</td>\n",
              "      <td>Indre By</td>\n",
              "      <td>1.0</td>\n",
              "      <td>1.0</td>\n",
              "      <td>['email', 'phone', 'reviews', 'jumio', 'offlin...</td>\n",
              "      <td>t</td>\n",
              "      <td>f</td>\n",
              "      <td>Copenhagen, Hovedstaden, Denmark</td>\n",
              "      <td>Indre By</td>\n",
              "      <td>Indre By</td>\n",
              "      <td>...</td>\n",
              "      <td>$350.00</td>\n",
              "      <td>3</td>\n",
              "      <td>30</td>\n",
              "      <td>3</td>\n",
              "      <td>3</td>\n",
              "      <td>30</td>\n",
              "      <td>30</td>\n",
              "      <td>3.0</td>\n",
              "      <td>30.0</td>\n",
              "      <td>4 months ago</td>\n",
              "      <td>t</td>\n",
              "      <td>28</td>\n",
              "      <td>58</td>\n",
              "      <td>88</td>\n",
              "      <td>363</td>\n",
              "      <td>2020-06-28</td>\n",
              "      <td>50</td>\n",
              "      <td>4</td>\n",
              "      <td>2013-12-02</td>\n",
              "      <td>2019-12-14</td>\n",
              "      <td>98.0</td>\n",
              "      <td>10.0</td>\n",
              "      <td>10.0</td>\n",
              "      <td>10.0</td>\n",
              "      <td>10.0</td>\n",
              "      <td>10.0</td>\n",
              "      <td>10.0</td>\n",
              "      <td>f</td>\n",
              "      <td>NaN</td>\n",
              "      <td>NaN</td>\n",
              "      <td>f</td>\n",
              "      <td>f</td>\n",
              "      <td>moderate</td>\n",
              "      <td>f</td>\n",
              "      <td>f</td>\n",
              "      <td>1</td>\n",
              "      <td>1</td>\n",
              "      <td>0</td>\n",
              "      <td>0</td>\n",
              "      <td>0.62</td>\n",
              "    </tr>\n",
              "    <tr>\n",
              "      <th>2</th>\n",
              "      <td>26473</td>\n",
              "      <td>https://www.airbnb.com/rooms/26473</td>\n",
              "      <td>20200626200423</td>\n",
              "      <td>2020-06-28</td>\n",
              "      <td>City Centre Townhouse Sleeps 1-12 persons</td>\n",
              "      <td>TOWN HOUSE ON KNABROSTRÆDE - located in the ab...</td>\n",
              "      <td>The house is a total of 240sqm divided on 4 fl...</td>\n",
              "      <td>TOWN HOUSE ON KNABROSTRÆDE - located in the ab...</td>\n",
              "      <td>none</td>\n",
              "      <td>NaN</td>\n",
              "      <td>NaN</td>\n",
              "      <td>NaN</td>\n",
              "      <td>NaN</td>\n",
              "      <td>NaN</td>\n",
              "      <td>Please be respectful to the neighbors and keep...</td>\n",
              "      <td>NaN</td>\n",
              "      <td>NaN</td>\n",
              "      <td>https://a0.muscache.com/im/pictures/8e132ba0-b...</td>\n",
              "      <td>NaN</td>\n",
              "      <td>112210</td>\n",
              "      <td>https://www.airbnb.com/users/show/112210</td>\n",
              "      <td>Oliver</td>\n",
              "      <td>2010-04-22</td>\n",
              "      <td>Copenhagen, Capital Region of Denmark, Denmark</td>\n",
              "      <td>Gentle male, have travelled the world for 30 y...</td>\n",
              "      <td>within a few hours</td>\n",
              "      <td>100%</td>\n",
              "      <td>100%</td>\n",
              "      <td>f</td>\n",
              "      <td>https://a0.muscache.com/im/users/112210/profil...</td>\n",
              "      <td>https://a0.muscache.com/im/users/112210/profil...</td>\n",
              "      <td>Indre By</td>\n",
              "      <td>4.0</td>\n",
              "      <td>4.0</td>\n",
              "      <td>['email', 'phone', 'facebook', 'reviews', 'jum...</td>\n",
              "      <td>t</td>\n",
              "      <td>t</td>\n",
              "      <td>Copenhagen, Hovedstaden, Denmark</td>\n",
              "      <td>Indre By</td>\n",
              "      <td>Indre By</td>\n",
              "      <td>...</td>\n",
              "      <td>$0.00</td>\n",
              "      <td>3</td>\n",
              "      <td>31</td>\n",
              "      <td>3</td>\n",
              "      <td>3</td>\n",
              "      <td>1125</td>\n",
              "      <td>1125</td>\n",
              "      <td>3.0</td>\n",
              "      <td>1125.0</td>\n",
              "      <td>7 months ago</td>\n",
              "      <td>t</td>\n",
              "      <td>29</td>\n",
              "      <td>59</td>\n",
              "      <td>89</td>\n",
              "      <td>172</td>\n",
              "      <td>2020-06-28</td>\n",
              "      <td>293</td>\n",
              "      <td>31</td>\n",
              "      <td>2010-10-14</td>\n",
              "      <td>2020-03-02</td>\n",
              "      <td>91.0</td>\n",
              "      <td>10.0</td>\n",
              "      <td>9.0</td>\n",
              "      <td>10.0</td>\n",
              "      <td>10.0</td>\n",
              "      <td>10.0</td>\n",
              "      <td>9.0</td>\n",
              "      <td>f</td>\n",
              "      <td>NaN</td>\n",
              "      <td>NaN</td>\n",
              "      <td>f</td>\n",
              "      <td>f</td>\n",
              "      <td>moderate</td>\n",
              "      <td>f</td>\n",
              "      <td>f</td>\n",
              "      <td>1</td>\n",
              "      <td>1</td>\n",
              "      <td>0</td>\n",
              "      <td>0</td>\n",
              "      <td>2.48</td>\n",
              "    </tr>\n",
              "    <tr>\n",
              "      <th>3</th>\n",
              "      <td>29118</td>\n",
              "      <td>https://www.airbnb.com/rooms/29118</td>\n",
              "      <td>20200626200423</td>\n",
              "      <td>2020-06-28</td>\n",
              "      <td>Best Location in Cool Istedgade</td>\n",
              "      <td>NaN</td>\n",
              "      <td>The apartment is situated in the middle of the...</td>\n",
              "      <td>The apartment is situated in the middle of the...</td>\n",
              "      <td>none</td>\n",
              "      <td>NaN</td>\n",
              "      <td>NaN</td>\n",
              "      <td>NaN</td>\n",
              "      <td>NaN</td>\n",
              "      <td>NaN</td>\n",
              "      <td>Smoking is allowed on the balcony only.  Pleas...</td>\n",
              "      <td>NaN</td>\n",
              "      <td>NaN</td>\n",
              "      <td>https://a0.muscache.com/im/pictures/236213/339...</td>\n",
              "      <td>NaN</td>\n",
              "      <td>125230</td>\n",
              "      <td>https://www.airbnb.com/users/show/125230</td>\n",
              "      <td>Nana</td>\n",
              "      <td>2010-05-15</td>\n",
              "      <td>Copenhagen, Capital Region of Denmark, Denmark</td>\n",
              "      <td>I have a Master of Arts in Musicology and I wo...</td>\n",
              "      <td>NaN</td>\n",
              "      <td>NaN</td>\n",
              "      <td>17%</td>\n",
              "      <td>f</td>\n",
              "      <td>https://a0.muscache.com/im/users/125230/profil...</td>\n",
              "      <td>https://a0.muscache.com/im/users/125230/profil...</td>\n",
              "      <td>Vesterbro</td>\n",
              "      <td>1.0</td>\n",
              "      <td>1.0</td>\n",
              "      <td>['email', 'phone', 'reviews']</td>\n",
              "      <td>t</td>\n",
              "      <td>f</td>\n",
              "      <td>Copenhagen, Hovedstaden, Denmark</td>\n",
              "      <td>Vesterbro</td>\n",
              "      <td>Vesterbro-Kongens Enghave</td>\n",
              "      <td>...</td>\n",
              "      <td>$0.00</td>\n",
              "      <td>7</td>\n",
              "      <td>14</td>\n",
              "      <td>3</td>\n",
              "      <td>5</td>\n",
              "      <td>14</td>\n",
              "      <td>14</td>\n",
              "      <td>4.1</td>\n",
              "      <td>14.0</td>\n",
              "      <td>4 months ago</td>\n",
              "      <td>t</td>\n",
              "      <td>21</td>\n",
              "      <td>21</td>\n",
              "      <td>21</td>\n",
              "      <td>21</td>\n",
              "      <td>2020-06-28</td>\n",
              "      <td>22</td>\n",
              "      <td>2</td>\n",
              "      <td>2010-06-17</td>\n",
              "      <td>2019-08-02</td>\n",
              "      <td>98.0</td>\n",
              "      <td>10.0</td>\n",
              "      <td>10.0</td>\n",
              "      <td>10.0</td>\n",
              "      <td>10.0</td>\n",
              "      <td>10.0</td>\n",
              "      <td>10.0</td>\n",
              "      <td>f</td>\n",
              "      <td>NaN</td>\n",
              "      <td>NaN</td>\n",
              "      <td>f</td>\n",
              "      <td>f</td>\n",
              "      <td>strict_14_with_grace_period</td>\n",
              "      <td>f</td>\n",
              "      <td>f</td>\n",
              "      <td>1</td>\n",
              "      <td>1</td>\n",
              "      <td>0</td>\n",
              "      <td>0</td>\n",
              "      <td>0.18</td>\n",
              "    </tr>\n",
              "    <tr>\n",
              "      <th>4</th>\n",
              "      <td>29618</td>\n",
              "      <td>https://www.airbnb.com/rooms/29618</td>\n",
              "      <td>20200626200423</td>\n",
              "      <td>2020-06-29</td>\n",
              "      <td>Artsy and familyfriendly home in lovely Copenh...</td>\n",
              "      <td>Artsy, bright and spacious flat, close to the ...</td>\n",
              "      <td>It's a three bedroom apartment with a spacious...</td>\n",
              "      <td>Artsy, bright and spacious flat, close to the ...</td>\n",
              "      <td>none</td>\n",
              "      <td>The apartment is situated in Østerbro, very cl...</td>\n",
              "      <td>Please note that the bed in the second bedroom...</td>\n",
              "      <td>There are good bus connections very close to t...</td>\n",
              "      <td>NaN</td>\n",
              "      <td>We will not be around during your stay but you...</td>\n",
              "      <td>Please respect that this is our home.</td>\n",
              "      <td>NaN</td>\n",
              "      <td>NaN</td>\n",
              "      <td>https://a0.muscache.com/im/pictures/547e4a06-9...</td>\n",
              "      <td>NaN</td>\n",
              "      <td>127577</td>\n",
              "      <td>https://www.airbnb.com/users/show/127577</td>\n",
              "      <td>Simon And Anna</td>\n",
              "      <td>2010-05-18</td>\n",
              "      <td>Copenhagen, Capital Region of Denmark, Denmark</td>\n",
              "      <td>We are Simon and Anna, 40ies, professionals, h...</td>\n",
              "      <td>NaN</td>\n",
              "      <td>NaN</td>\n",
              "      <td>NaN</td>\n",
              "      <td>f</td>\n",
              "      <td>https://a0.muscache.com/im/users/127577/profil...</td>\n",
              "      <td>https://a0.muscache.com/im/users/127577/profil...</td>\n",
              "      <td>Østerbro</td>\n",
              "      <td>1.0</td>\n",
              "      <td>1.0</td>\n",
              "      <td>['email', 'phone', 'facebook', 'reviews', 'jum...</td>\n",
              "      <td>t</td>\n",
              "      <td>t</td>\n",
              "      <td>Copenhagen, Hovedstaden, Denmark</td>\n",
              "      <td>Østerbro</td>\n",
              "      <td>sterbro</td>\n",
              "      <td>...</td>\n",
              "      <td>$0.00</td>\n",
              "      <td>7</td>\n",
              "      <td>31</td>\n",
              "      <td>7</td>\n",
              "      <td>7</td>\n",
              "      <td>1125</td>\n",
              "      <td>1125</td>\n",
              "      <td>7.0</td>\n",
              "      <td>1125.0</td>\n",
              "      <td>10 months ago</td>\n",
              "      <td>t</td>\n",
              "      <td>0</td>\n",
              "      <td>0</td>\n",
              "      <td>0</td>\n",
              "      <td>0</td>\n",
              "      <td>2020-06-29</td>\n",
              "      <td>90</td>\n",
              "      <td>0</td>\n",
              "      <td>2010-08-16</td>\n",
              "      <td>2017-06-03</td>\n",
              "      <td>94.0</td>\n",
              "      <td>10.0</td>\n",
              "      <td>9.0</td>\n",
              "      <td>10.0</td>\n",
              "      <td>9.0</td>\n",
              "      <td>10.0</td>\n",
              "      <td>9.0</td>\n",
              "      <td>f</td>\n",
              "      <td>NaN</td>\n",
              "      <td>NaN</td>\n",
              "      <td>t</td>\n",
              "      <td>f</td>\n",
              "      <td>moderate</td>\n",
              "      <td>f</td>\n",
              "      <td>f</td>\n",
              "      <td>1</td>\n",
              "      <td>1</td>\n",
              "      <td>0</td>\n",
              "      <td>0</td>\n",
              "      <td>0.75</td>\n",
              "    </tr>\n",
              "  </tbody>\n",
              "</table>\n",
              "<p>5 rows × 106 columns</p>\n",
              "</div>"
            ],
            "text/plain": [
              "      id  ... reviews_per_month\n",
              "0   6983  ...              1.28\n",
              "1  26057  ...              0.62\n",
              "2  26473  ...              2.48\n",
              "3  29118  ...              0.18\n",
              "4  29618  ...              0.75\n",
              "\n",
              "[5 rows x 106 columns]"
            ]
          },
          "metadata": {
            "tags": []
          },
          "execution_count": 6
        }
      ]
    },
    {
      "cell_type": "code",
      "metadata": {
        "id": "9p-3R7ahCn6H"
      },
      "source": [
        "listings.price = listings.price.str.replace(',','')\n",
        "listings.price = listings.price.str.replace('$','')\n",
        "listings.price = listings.price.astype(float)"
      ],
      "execution_count": 7,
      "outputs": []
    },
    {
      "cell_type": "code",
      "metadata": {
        "id": "FNJeMZO5Cq-Q"
      },
      "source": [
        "listings.cleaning_fee = listings.cleaning_fee.str.replace(',','')\n",
        "listings.cleaning_fee = listings.cleaning_fee.str.replace('$','')\n",
        "listings.cleaning_fee = listings.cleaning_fee.astype(float)"
      ],
      "execution_count": 8,
      "outputs": []
    },
    {
      "cell_type": "code",
      "metadata": {
        "id": "GhJ4SP_bDC__"
      },
      "source": [
        "listings['price_total'] = listings.price + listings.cleaning_fee"
      ],
      "execution_count": 9,
      "outputs": []
    },
    {
      "cell_type": "code",
      "metadata": {
        "id": "Rg2fmhHPDEgT"
      },
      "source": [
        "listings_clean = listings[listings.price_total < listings.price_total.quantile(0.95)]"
      ],
      "execution_count": 10,
      "outputs": []
    },
    {
      "cell_type": "code",
      "metadata": {
        "id": "BrtPXIt_EK63",
        "outputId": "d0444364-4cd1-41ae-97aa-036b96e46d70",
        "colab": {
          "base_uri": "https://localhost:8080/"
        }
      },
      "source": [
        "listings_clean = listings_clean[listings.number_of_reviews > 5]"
      ],
      "execution_count": 11,
      "outputs": [
        {
          "output_type": "stream",
          "text": [
            "/usr/local/lib/python3.6/dist-packages/ipykernel_launcher.py:1: UserWarning: Boolean Series key will be reindexed to match DataFrame index.\n",
            "  \"\"\"Entry point for launching an IPython kernel.\n"
          ],
          "name": "stderr"
        }
      ]
    },
    {
      "cell_type": "code",
      "metadata": {
        "id": "gtkaTIVEERUz"
      },
      "source": [
        "listings_clean = listings_clean[listings_clean.property_type.isin(['Apartment','Condominium','House'])]\n",
        "listings_clean = listings_clean[listings_clean.bed_type.isin(['Real Bed','Pull-out Sofa'])]"
      ],
      "execution_count": 13,
      "outputs": []
    },
    {
      "cell_type": "code",
      "metadata": {
        "id": "Gg8ulo6UEVR6"
      },
      "source": [
        "y = listings_clean.price_total"
      ],
      "execution_count": 14,
      "outputs": []
    },
    {
      "cell_type": "code",
      "metadata": {
        "id": "ittj_h_HEYWS"
      },
      "source": [
        "X = listings_clean.iloc[:,[39,51,52,53,54,55,56,57]]"
      ],
      "execution_count": 15,
      "outputs": []
    },
    {
      "cell_type": "code",
      "metadata": {
        "id": "r9JqMYdwEaq-"
      },
      "source": [
        "X = pd.get_dummies(X)"
      ],
      "execution_count": 18,
      "outputs": []
    },
    {
      "cell_type": "code",
      "metadata": {
        "id": "BNVnUlfJEfb-"
      },
      "source": [
        "from sklearn.preprocessing import StandardScaler\n",
        "scaler = StandardScaler()"
      ],
      "execution_count": 19,
      "outputs": []
    },
    {
      "cell_type": "code",
      "metadata": {
        "id": "IU3VIxuxEhUY"
      },
      "source": [
        "X.iloc[:,:4] = scaler.fit_transform(X.iloc[:,:4])"
      ],
      "execution_count": 20,
      "outputs": []
    },
    {
      "cell_type": "code",
      "metadata": {
        "id": "IfWTm-3fEjnW"
      },
      "source": [
        "X.iloc[:,:4] = IterativeImputer().fit_transform(X.iloc[:,:4])"
      ],
      "execution_count": null,
      "outputs": []
    },
    {
      "cell_type": "code",
      "metadata": {
        "id": "LOzBnjuuErL_",
        "outputId": "1f6c55e7-1388-4d7c-af89-5773cc097642",
        "colab": {
          "base_uri": "https://localhost:8080/"
        }
      },
      "source": [
        "X.isnull().sum()"
      ],
      "execution_count": 23,
      "outputs": [
        {
          "output_type": "execute_result",
          "data": {
            "text/plain": [
              "accommodates                                        0\n",
              "bathrooms                                           0\n",
              "bedrooms                                            0\n",
              "beds                                                0\n",
              "neighbourhood_cleansed_Amager Vest                  0\n",
              "neighbourhood_cleansed_Amager st                    0\n",
              "neighbourhood_cleansed_Bispebjerg                   0\n",
              "neighbourhood_cleansed_Brnshj-Husum                 0\n",
              "neighbourhood_cleansed_Frederiksberg                0\n",
              "neighbourhood_cleansed_Indre By                     0\n",
              "neighbourhood_cleansed_Nrrebro                      0\n",
              "neighbourhood_cleansed_Valby                        0\n",
              "neighbourhood_cleansed_Vanlse                       0\n",
              "neighbourhood_cleansed_Vesterbro-Kongens Enghave    0\n",
              "neighbourhood_cleansed_sterbro                      0\n",
              "property_type_Apartment                             0\n",
              "property_type_Condominium                           0\n",
              "property_type_House                                 0\n",
              "room_type_Entire home/apt                           0\n",
              "room_type_Private room                              0\n",
              "room_type_Shared room                               0\n",
              "bed_type_Pull-out Sofa                              0\n",
              "bed_type_Real Bed                                   0\n",
              "dtype: int64"
            ]
          },
          "metadata": {
            "tags": []
          },
          "execution_count": 23
        }
      ]
    },
    {
      "cell_type": "code",
      "metadata": {
        "id": "IwH1wvzHEt7x"
      },
      "source": [
        "from sklearn.model_selection import train_test_split\n",
        "X_train, X_test, y_train, y_test = train_test_split(X, y, test_size = 0.2, random_state = 21)"
      ],
      "execution_count": 24,
      "outputs": []
    },
    {
      "cell_type": "code",
      "metadata": {
        "id": "e5ushIjTEzgx"
      },
      "source": [
        "from sklearn.linear_model import LinearRegression"
      ],
      "execution_count": 25,
      "outputs": []
    },
    {
      "cell_type": "code",
      "metadata": {
        "id": "pB6pCBwzE1ck",
        "outputId": "7e9c0028-5e0b-43f5-e25c-f963edc9b19b",
        "colab": {
          "base_uri": "https://localhost:8080/"
        }
      },
      "source": [
        "model_ols = LinearRegression()\n",
        "model_ols.fit(X_train, y_train)"
      ],
      "execution_count": 26,
      "outputs": [
        {
          "output_type": "execute_result",
          "data": {
            "text/plain": [
              "LinearRegression(copy_X=True, fit_intercept=True, n_jobs=None, normalize=False)"
            ]
          },
          "metadata": {
            "tags": []
          },
          "execution_count": 26
        }
      ]
    },
    {
      "cell_type": "code",
      "metadata": {
        "id": "NIl1ZKnTE4w4",
        "outputId": "a2e7ebcf-2601-4e84-a638-0061bda85dce",
        "colab": {
          "base_uri": "https://localhost:8080/"
        }
      },
      "source": [
        "model_ols.score(X_test, y_test)"
      ],
      "execution_count": 27,
      "outputs": [
        {
          "output_type": "execute_result",
          "data": {
            "text/plain": [
              "0.5136379636229365"
            ]
          },
          "metadata": {
            "tags": []
          },
          "execution_count": 27
        }
      ]
    },
    {
      "cell_type": "code",
      "metadata": {
        "id": "aKeSx8MME7-B",
        "outputId": "8f94d1dd-624d-4b29-91aa-d4392aab5334",
        "colab": {
          "base_uri": "https://localhost:8080/"
        }
      },
      "source": [
        "np.sqrt(mean_squared_error(y_test, model_ols.predict(X_test)))"
      ],
      "execution_count": 36,
      "outputs": [
        {
          "output_type": "execute_result",
          "data": {
            "text/plain": [
              "309.4208279339082"
            ]
          },
          "metadata": {
            "tags": []
          },
          "execution_count": 36
        }
      ]
    },
    {
      "cell_type": "code",
      "metadata": {
        "id": "PXDxXlJVFTN2",
        "outputId": "a5a0f6b8-e9db-41f3-93a5-d5749a5b5d9a",
        "colab": {
          "base_uri": "https://localhost:8080/"
        }
      },
      "source": [
        "X_train.shape"
      ],
      "execution_count": 31,
      "outputs": [
        {
          "output_type": "execute_result",
          "data": {
            "text/plain": [
              "(8058, 23)"
            ]
          },
          "metadata": {
            "tags": []
          },
          "execution_count": 31
        }
      ]
    },
    {
      "cell_type": "code",
      "metadata": {
        "id": "ZD6tuVvTFCTj"
      },
      "source": [
        "model = Sequential()\n",
        "model.add(Dense(10,activation='relu',input_shape = (23,)))\n",
        "model.add(Dense(1, kernel_initializer='normal'))\n",
        "model.compile(optimizer = 'adam', loss='mean_squared_error',\n",
        "             metrics=mean_squared_error)"
      ],
      "execution_count": 38,
      "outputs": []
    },
    {
      "cell_type": "code",
      "metadata": {
        "id": "nAKZdOITGBm_"
      },
      "source": [
        "history = model.fit(X_train, \n",
        "                    y_train,\n",
        "                    epochs = 200,\n",
        "                    batch_size = 32,\n",
        "                    verbose=2, validation_split=0.1)"
      ],
      "execution_count": null,
      "outputs": []
    },
    {
      "cell_type": "code",
      "metadata": {
        "id": "A17eOn0EGXMq",
        "outputId": "8dd5f2c4-9095-470d-8975-ae20aea4cee1",
        "colab": {
          "base_uri": "https://localhost:8080/",
          "height": 301
        }
      },
      "source": [
        "# summarize history for accuracy\n",
        "plt.plot(history.history['mean_squared_error'])\n",
        "plt.plot(history.history['val_mean_squared_error'])\n",
        "plt.title('model MSE')\n",
        "plt.ylabel('MSE')\n",
        "plt.xlabel('epoch')\n",
        "plt.legend(['train', 'test'], loc='upper left')\n",
        "plt.show()"
      ],
      "execution_count": 45,
      "outputs": [
        {
          "output_type": "display_data",
          "data": {
            "image/png": "[encoded data removed]",
            "text/plain": [
              "<Figure size 432x288 with 1 Axes>"
            ]
          },
          "metadata": {
            "tags": []
          }
        }
      ]
    },
    {
      "cell_type": "code",
      "metadata": {
        "id": "n0uor_rWG6-R",
        "outputId": "4cff9816-9af1-4fe8-bebe-c01a5ff779ce",
        "colab": {
          "base_uri": "https://localhost:8080/"
        }
      },
      "source": [
        "model.evaluate(X_test, y_test)"
      ],
      "execution_count": 46,
      "outputs": [
        {
          "output_type": "stream",
          "text": [
            "63/63 [==============================] - 0s 728us/step - loss: 95775.0234 - mean_squared_error: 95775.0234\n"
          ],
          "name": "stdout"
        },
        {
          "output_type": "execute_result",
          "data": {
            "text/plain": [
              "[95775.0234375, 95775.0234375]"
            ]
          },
          "metadata": {
            "tags": []
          },
          "execution_count": 46
        }
      ]
    },
    {
      "cell_type": "code",
      "metadata": {
        "id": "5xvNntGIHOgP",
        "outputId": "80e61dfa-6f82-4490-cd03-717a3333fbd0",
        "colab": {
          "base_uri": "https://localhost:8080/"
        }
      },
      "source": [
        "np.sqrt(95775.0234)"
      ],
      "execution_count": 47,
      "outputs": [
        {
          "output_type": "execute_result",
          "data": {
            "text/plain": [
              "309.47540031479076"
            ]
          },
          "metadata": {
            "tags": []
          },
          "execution_count": 47
        }
      ]
    }
  ]
}