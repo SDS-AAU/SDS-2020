{
  "nbformat": 4,
  "nbformat_minor": 0,
  "metadata": {
    "colab": {
      "name": "M3 W1 - AirBnb.ipynb",
      "provenance": [],
      "collapsed_sections": [],
      "authorship_tag": "ABX9TyPlb8C431GYU+3sjgJUkPlg",
      "include_colab_link": true
    },
    "kernelspec": {
      "name": "python3",
      "display_name": "Python 3"
    }
  },
  "cells": [
    {
      "cell_type": "markdown",
      "metadata": {
        "id": "view-in-github",
        "colab_type": "text"
      },
      "source": [
        "<a href=\"https://colab.research.google.com/github/SDS-AAU/SDS-2020/blob/master/M3/workshop1/M3_W1_AirBnb.ipynb\" target=\"_parent\"><img src=\"https://colab.research.google.com/assets/colab-badge.svg\" alt=\"Open In Colab\"/></a>"
      ]
    },
    {
      "cell_type": "markdown",
      "metadata": {
        "id": "NQv-jf2VAi7B"
      },
      "source": [
        "# M3 - Deep Learning Workshop 1\n",
        "\n",
        "In this workshop will revisit the [AirBnb dataset](http://data.insideairbnb.com/denmark/hovedstaden/copenhagen/2020-06-26/data/listings.csv.gz) that we used in M1. "
      ]
    },
    {
      "cell_type": "code",
      "metadata": {
        "id": "lAXXAK-rABs8"
      },
      "source": [
        "# Import libraries \n",
        "import pandas as pd\n",
        "import numpy as np\n",
        "import matplotlib.pyplot as plt\n",
        "import seaborn as sns\n",
        "sns.set()\n",
        "\n",
        "#from sklearn.metrics import mean_squared_error\n",
        "\n",
        "# Import Keras libraries and metrics\n",
        "from keras.models import Sequential\n",
        "from keras.layers import Dense\n",
        "from keras.layers import Dropout\n",
        "from keras.metrics import mean_squared_error"
      ],
      "execution_count": 277,
      "outputs": []
    },
    {
      "cell_type": "code",
      "metadata": {
        "id": "rm9OAE0eA8CY"
      },
      "source": [
        "# import imputation\n",
        "from fancyimpute import IterativeImputer"
      ],
      "execution_count": null,
      "outputs": []
    },
    {
      "cell_type": "code",
      "metadata": {
        "id": "Lxptd8LABNRD"
      },
      "source": [
        "# load data\n",
        "listings = pd.read_csv('http://data.insideairbnb.com/denmark/hovedstaden/copenhagen/2020-06-26/data/listings.csv.gz', compression='gzip')"
      ],
      "execution_count": null,
      "outputs": []
    },
    {
      "cell_type": "code",
      "metadata": {
        "id": "wWzzuy6zCmbR"
      },
      "source": [
        "listings.head()"
      ],
      "execution_count": null,
      "outputs": []
    },
    {
      "cell_type": "code",
      "metadata": {
        "id": "XzLsKCCKS6cS"
      },
      "source": [
        "listings.info(verbose=1)"
      ],
      "execution_count": null,
      "outputs": []
    },
    {
      "cell_type": "markdown",
      "metadata": {
        "id": "-03-SGV7qBnV"
      },
      "source": [
        "cleaning and selecting data"
      ]
    },
    {
      "cell_type": "code",
      "metadata": {
        "id": "9p-3R7ahCn6H"
      },
      "source": [
        "# some cleaning\n",
        "listings.price = listings.price.str.replace(',','')\n",
        "listings.price = listings.price.str.replace('$','')\n",
        "listings.price = listings.price.astype(float)"
      ],
      "execution_count": null,
      "outputs": []
    },
    {
      "cell_type": "code",
      "metadata": {
        "id": "FNJeMZO5Cq-Q"
      },
      "source": [
        "listings.cleaning_fee = listings.cleaning_fee.str.replace(',','')\n",
        "listings.cleaning_fee = listings.cleaning_fee.str.replace('$','')\n",
        "listings.cleaning_fee = listings.cleaning_fee.astype(float)"
      ],
      "execution_count": null,
      "outputs": []
    },
    {
      "cell_type": "code",
      "metadata": {
        "id": "GhJ4SP_bDC__"
      },
      "source": [
        "listings['price_total'] = listings.price + listings.cleaning_fee"
      ],
      "execution_count": null,
      "outputs": []
    },
    {
      "cell_type": "code",
      "metadata": {
        "id": "Rg2fmhHPDEgT"
      },
      "source": [
        "listings_clean = listings[listings.price_total < listings.price_total.quantile(0.95)]"
      ],
      "execution_count": null,
      "outputs": []
    },
    {
      "cell_type": "code",
      "metadata": {
        "id": "BrtPXIt_EK63"
      },
      "source": [
        "listings_clean = listings_clean[listings.number_of_reviews > 5]"
      ],
      "execution_count": null,
      "outputs": []
    },
    {
      "cell_type": "code",
      "metadata": {
        "id": "gtkaTIVEERUz"
      },
      "source": [
        "listings_clean = listings_clean[listings_clean.property_type.isin(['Apartment','Condominium','House'])]\n",
        "listings_clean = listings_clean[listings_clean.bed_type.isin(['Real Bed','Pull-out Sofa'])]"
      ],
      "execution_count": null,
      "outputs": []
    },
    {
      "cell_type": "code",
      "metadata": {
        "id": "Gg8ulo6UEVR6"
      },
      "source": [
        "y = listings_clean.price_total"
      ],
      "execution_count": 279,
      "outputs": []
    },
    {
      "cell_type": "code",
      "metadata": {
        "id": "ittj_h_HEYWS"
      },
      "source": [
        "X = listings_clean.iloc[:,[39,51,52,53,54,55,56,57]]"
      ],
      "execution_count": 280,
      "outputs": []
    },
    {
      "cell_type": "code",
      "metadata": {
        "id": "r9JqMYdwEaq-"
      },
      "source": [
        "#recoding to dummies\n",
        "X = pd.get_dummies(X)"
      ],
      "execution_count": 281,
      "outputs": []
    },
    {
      "cell_type": "markdown",
      "metadata": {
        "id": "dUJW9yfNqJNz"
      },
      "source": [
        "scaling the inputs"
      ]
    },
    {
      "cell_type": "code",
      "metadata": {
        "id": "BNVnUlfJEfb-"
      },
      "source": [
        "from sklearn.preprocessing import StandardScaler\n",
        "scaler = StandardScaler()"
      ],
      "execution_count": 282,
      "outputs": []
    },
    {
      "cell_type": "code",
      "metadata": {
        "id": "IU3VIxuxEhUY"
      },
      "source": [
        "X.iloc[:,:4] = scaler.fit_transform(X.iloc[:,:4])"
      ],
      "execution_count": null,
      "outputs": []
    },
    {
      "cell_type": "code",
      "metadata": {
        "id": "IfWTm-3fEjnW"
      },
      "source": [
        "X.iloc[:,:4] = IterativeImputer().fit_transform(X.iloc[:,:4])"
      ],
      "execution_count": null,
      "outputs": []
    },
    {
      "cell_type": "code",
      "metadata": {
        "id": "LOzBnjuuErL_"
      },
      "source": [
        "X.isnull().sum()"
      ],
      "execution_count": null,
      "outputs": []
    },
    {
      "cell_type": "markdown",
      "metadata": {
        "id": "FPLZYw8AqMpK"
      },
      "source": [
        "splitting the data in train - test"
      ]
    },
    {
      "cell_type": "code",
      "metadata": {
        "id": "IwH1wvzHEt7x"
      },
      "source": [
        "from sklearn.model_selection import train_test_split\n",
        "X_train, X_test, y_train, y_test = train_test_split(X, y, test_size = 0.2, random_state = 21)"
      ],
      "execution_count": null,
      "outputs": []
    },
    {
      "cell_type": "markdown",
      "metadata": {
        "id": "i-2cFF6PqQGT"
      },
      "source": [
        "benchmark non-neural models"
      ]
    },
    {
      "cell_type": "code",
      "metadata": {
        "id": "e5ushIjTEzgx"
      },
      "source": [
        "from sklearn.linear_model import LinearRegression"
      ],
      "execution_count": null,
      "outputs": []
    },
    {
      "cell_type": "code",
      "metadata": {
        "id": "pB6pCBwzE1ck"
      },
      "source": [
        "model_ols = LinearRegression()\n",
        "model_ols.fit(X_train, y_train)"
      ],
      "execution_count": null,
      "outputs": []
    },
    {
      "cell_type": "code",
      "metadata": {
        "id": "NIl1ZKnTE4w4"
      },
      "source": [
        "model_ols.score(X_test, y_test)"
      ],
      "execution_count": null,
      "outputs": []
    },
    {
      "cell_type": "code",
      "metadata": {
        "id": "aKeSx8MME7-B"
      },
      "source": [
        "np.sqrt(mean_squared_error(y_test, model_ols.predict(X_test)))"
      ],
      "execution_count": null,
      "outputs": []
    },
    {
      "cell_type": "code",
      "metadata": {
        "id": "WxgkTbojSJV8"
      },
      "source": [
        "from xgboost import XGBRegressor\n",
        "model_xgb = XGBRegressor()"
      ],
      "execution_count": null,
      "outputs": []
    },
    {
      "cell_type": "code",
      "metadata": {
        "id": "4RMqPQgASMIR"
      },
      "source": [
        "model_xgb.fit(X_train, y_train)"
      ],
      "execution_count": null,
      "outputs": []
    },
    {
      "cell_type": "code",
      "metadata": {
        "id": "66gIn_r_SQRY"
      },
      "source": [
        "model_xgb.score(X_test, y_test)"
      ],
      "execution_count": null,
      "outputs": []
    },
    {
      "cell_type": "code",
      "metadata": {
        "id": "C7MQ6HQvSUqV"
      },
      "source": [
        "np.sqrt(mean_squared_error(y_test, model_xgb.predict(X_test)))"
      ],
      "execution_count": null,
      "outputs": []
    },
    {
      "cell_type": "code",
      "metadata": {
        "id": "PXDxXlJVFTN2"
      },
      "source": [
        "X_train.shape"
      ],
      "execution_count": null,
      "outputs": []
    },
    {
      "cell_type": "markdown",
      "metadata": {
        "id": "DKHmvX9SqTos"
      },
      "source": [
        "baseline neural model"
      ]
    },
    {
      "cell_type": "code",
      "metadata": {
        "id": "ZD6tuVvTFCTj"
      },
      "source": [
        "model = Sequential()\n",
        "model.add(Dense(10,activation='relu',input_shape = (23,)))\n",
        "model.add(Dense(1, kernel_initializer='normal'))\n",
        "model.compile(optimizer = 'adam', loss='mean_squared_error',\n",
        "             metrics=mean_squared_error)"
      ],
      "execution_count": 283,
      "outputs": []
    },
    {
      "cell_type": "code",
      "metadata": {
        "id": "nAKZdOITGBm_"
      },
      "source": [
        "history = model.fit(X_train, \n",
        "                    y_train,\n",
        "                    epochs = 200,\n",
        "                    batch_size = 64,\n",
        "                    verbose=2, validation_split=0.1)"
      ],
      "execution_count": null,
      "outputs": []
    },
    {
      "cell_type": "code",
      "metadata": {
        "id": "A17eOn0EGXMq"
      },
      "source": [
        "# summarize history for accuracy\n",
        "plt.plot(history.history['mean_squared_error'])\n",
        "plt.plot(history.history['val_mean_squared_error'])\n",
        "plt.title('model MSE')\n",
        "plt.ylabel('MSE')\n",
        "plt.xlabel('epoch')\n",
        "plt.legend(['train', 'test'], loc='upper left')\n",
        "plt.show()"
      ],
      "execution_count": null,
      "outputs": []
    },
    {
      "cell_type": "code",
      "metadata": {
        "id": "n0uor_rWG6-R"
      },
      "source": [
        "model.evaluate(X_test, y_test)"
      ],
      "execution_count": null,
      "outputs": []
    },
    {
      "cell_type": "code",
      "metadata": {
        "id": "5xvNntGIHOgP"
      },
      "source": [
        "np.sqrt(95595.8594)"
      ],
      "execution_count": null,
      "outputs": []
    },
    {
      "cell_type": "code",
      "metadata": {
        "id": "jTT2tVRnQG__"
      },
      "source": [
        "X_train.iloc[:,:4]"
      ],
      "execution_count": null,
      "outputs": []
    },
    {
      "cell_type": "markdown",
      "metadata": {
        "id": "_EyR9cHMcvUe"
      },
      "source": [
        "## Prevent overfitting"
      ]
    },
    {
      "cell_type": "code",
      "metadata": {
        "id": "PxcXYzoee2KU"
      },
      "source": [
        "model = Sequential()\n",
        "model.add(Dense(256,activation='relu',input_shape = (23,)))\n",
        "model.add(Dense(16,activation='relu'))\n",
        "model.add(Dense(1, kernel_initializer='normal'))\n",
        "model.compile(optimizer = 'adam', loss='mean_squared_error',\n",
        "             metrics=mean_squared_error)\n"
      ],
      "execution_count": null,
      "outputs": []
    },
    {
      "cell_type": "code",
      "metadata": {
        "id": "v3-36QH4e2Kn"
      },
      "source": [
        "history = model.fit(X_train, \n",
        "                    y_train,\n",
        "                    epochs = 20,\n",
        "                    batch_size = 32,\n",
        "                    verbose=0, validation_split=0.1)"
      ],
      "execution_count": null,
      "outputs": []
    },
    {
      "cell_type": "code",
      "metadata": {
        "id": "C4IfeoB7e2Kr"
      },
      "source": [
        "\n",
        "model.evaluate(X_test, y_test)"
      ],
      "execution_count": null,
      "outputs": []
    },
    {
      "cell_type": "markdown",
      "metadata": {
        "id": "s8drGOOMfBc0"
      },
      "source": [
        "![](https://miro.medium.com/max/1400/0*iNI8Oc80Eunm8NgI)\n",
        "\n",
        "https://matthewmcateer.me/blog/optimal-brain-damage/\n",
        "http://yann.lecun.com/exdb/publis/pdf/lecun-90b.pdf\n"
      ]
    },
    {
      "cell_type": "code",
      "metadata": {
        "id": "VTkB1LjUcyQl"
      },
      "source": [
        "model = Sequential()\n",
        "model.add(Dense(256,activation='relu',input_shape = (23,)))\n",
        "model.add(Dropout(0.3)) # <<-- Added dropout\n",
        "model.add(Dense(16,activation='relu'))\n",
        "model.add(Dense(1, kernel_initializer='normal'))\n",
        "model.compile(optimizer = 'adam', loss='mean_squared_error',\n",
        "             metrics=mean_squared_error)\n"
      ],
      "execution_count": null,
      "outputs": []
    },
    {
      "cell_type": "code",
      "metadata": {
        "id": "_sx2AHH_eFf1"
      },
      "source": [
        "plot_model(model, to_file='model_plot.png', show_shapes=True, show_layer_names=True)"
      ],
      "execution_count": null,
      "outputs": []
    },
    {
      "cell_type": "code",
      "metadata": {
        "id": "UU0j5ViNeIDl"
      },
      "source": [
        "history = model.fit(X_train, \n",
        "                    y_train,\n",
        "                    epochs = 20,\n",
        "                    batch_size = 32,\n",
        "                    verbose=0, validation_split=0.1)"
      ],
      "execution_count": null,
      "outputs": []
    },
    {
      "cell_type": "code",
      "metadata": {
        "id": "vTFonCmic51P"
      },
      "source": [
        "model.evaluate(X_test, y_test)"
      ],
      "execution_count": null,
      "outputs": []
    },
    {
      "cell_type": "code",
      "metadata": {
        "id": "2zYl5FJFgqtI"
      },
      "source": [
        "from keras.regularizers import l1"
      ],
      "execution_count": null,
      "outputs": []
    },
    {
      "cell_type": "markdown",
      "metadata": {
        "id": "RrPoNcwnqZAr"
      },
      "source": [
        "### regualization"
      ]
    },
    {
      "cell_type": "code",
      "metadata": {
        "id": "td4AG-ipgbZq"
      },
      "source": [
        "model = Sequential()\n",
        "model.add(Dense(256,activation='relu',input_shape = (23,)))\n",
        "model.add(Dense(16,activation='relu',  activity_regularizer=l1(0.001))) # <-- add activity regularizer\n",
        "model.add(Dense(1, kernel_initializer='normal'))\n",
        "model.compile(optimizer = 'adam', loss='mean_squared_error',\n",
        "             metrics=mean_squared_error)\n",
        "\n",
        "history = model.fit(X_train, \n",
        "                    y_train,\n",
        "                    epochs = 20,\n",
        "                    batch_size = 32,\n",
        "                    verbose=0, validation_split=0.1)"
      ],
      "execution_count": null,
      "outputs": []
    },
    {
      "cell_type": "code",
      "metadata": {
        "id": "B1ImQF_yg4qw"
      },
      "source": [
        "model.evaluate(X_test, y_test)"
      ],
      "execution_count": null,
      "outputs": []
    },
    {
      "cell_type": "markdown",
      "metadata": {
        "id": "zrBaQ_CpdqZ3"
      },
      "source": [
        "## Bonus: Multi-branch architecture\n",
        "\n",
        "This chunk is using the functional Keras API that is more flexible than the sequential model. Using this you can for instance use text and images together with tabular data for your model. \n",
        "Here I'm going to define two branches: One for all dummies the other one for the \"normal\" nummerical variables."
      ]
    },
    {
      "cell_type": "code",
      "metadata": {
        "id": "llo8_ieMRGXP"
      },
      "source": [
        "from tensorflow.keras.layers import Input\n",
        "from tensorflow.keras.models import Model\n",
        "from tensorflow.keras.layers import concatenate\n",
        "from keras.utils.vis_utils import plot_model"
      ],
      "execution_count": null,
      "outputs": []
    },
    {
      "cell_type": "code",
      "metadata": {
        "id": "_35nDUBtO1Qi"
      },
      "source": [
        "# define two sets of inputs\n",
        "inputA = Input(shape=(4,))\n",
        "inputB = Input(shape=(19,))\n",
        "# the first branch operates on the first input\n",
        "x1 = Dense(8, activation=\"relu\")(inputA)\n",
        "x1 = Dense(4, activation=\"relu\")(x1)\n",
        "x1 = Model(inputs=inputA, outputs=x1)\n",
        "# the second branch opreates on the second input\n",
        "x2 = Dense(64, activation=\"relu\")(inputB)\n",
        "x2 = Dense(32, activation=\"relu\")(x2)\n",
        "x2 = Dense(4, activation=\"relu\")(x2)\n",
        "x2 = Model(inputs=inputB, outputs=x2)\n",
        "# combine the output of the two branches\n",
        "combined = concatenate([x1.output, x2.output])\n",
        "# apply a FC layer and then a regression prediction on the\n",
        "# combined outputs\n",
        "y = Dense(2, activation=\"relu\")(combined)\n",
        "y = Dense(1, activation=\"linear\")(y)\n",
        "# our model will accept the inputs of the two branches and\n",
        "# then output a single value\n",
        "model = Model(inputs=[x1.input, x2.input], outputs=y)"
      ],
      "execution_count": null,
      "outputs": []
    },
    {
      "cell_type": "code",
      "metadata": {
        "id": "fqVMpIdcRfUy"
      },
      "source": [
        "model.compile(optimizer = 'adam', loss='mean_squared_error',\n",
        "             metrics=mean_squared_error)"
      ],
      "execution_count": null,
      "outputs": []
    },
    {
      "cell_type": "code",
      "metadata": {
        "id": "iJR4YYKvd7T7"
      },
      "source": [
        "plot_model(model, to_file='model_plot.png', show_shapes=True, show_layer_names=True)"
      ],
      "execution_count": null,
      "outputs": []
    },
    {
      "cell_type": "code",
      "metadata": {
        "id": "JwISf2THQ9Ji"
      },
      "source": [
        "history = model.fit([X_train.iloc[:,:4],X_train.iloc[:,4:]], \n",
        "                    y_train,\n",
        "                    epochs = 50,\n",
        "                    batch_size = 32,\n",
        "                    verbose=0, validation_split=0.1)"
      ],
      "execution_count": null,
      "outputs": []
    },
    {
      "cell_type": "code",
      "metadata": {
        "id": "NR2cmcxMSe_p"
      },
      "source": [
        "# summarize history for accuracy\n",
        "plt.plot(history.history['mean_squared_error'])\n",
        "plt.plot(history.history['val_mean_squared_error'])\n",
        "plt.title('model MSE')\n",
        "plt.ylabel('MSE')\n",
        "plt.xlabel('epoch')\n",
        "plt.legend(['train', 'test'], loc='upper left')\n",
        "plt.show()"
      ],
      "execution_count": null,
      "outputs": []
    },
    {
      "cell_type": "code",
      "metadata": {
        "id": "38PF2QvURiHS"
      },
      "source": [
        "model.evaluate([X_test.iloc[:,:4],X_test.iloc[:,4:]], y_test)"
      ],
      "execution_count": null,
      "outputs": []
    },
    {
      "cell_type": "code",
      "metadata": {
        "id": "mw1P66VKR3Ar"
      },
      "source": [
        "np.sqrt(95384.3984)"
      ],
      "execution_count": null,
      "outputs": []
    }
  ]
}